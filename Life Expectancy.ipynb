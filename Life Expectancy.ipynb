{
 "cells": [
  {
   "cell_type": "code",
   "execution_count": 1,
   "id": "dfd91caf",
   "metadata": {},
   "outputs": [],
   "source": [
    "import pandas as pd\n",
    "import seaborn as sns\n",
    "from matplotlib import pyplot as plt\n",
    "import numpy as np\n",
    "from scipy.stats import ttest_1samp"
   ]
  },
  {
   "cell_type": "code",
   "execution_count": 2,
   "id": "04e75129",
   "metadata": {},
   "outputs": [],
   "source": [
    "df = pd.read_csv(\"Life Expectancy Data.csv\")"
   ]
  },
  {
   "cell_type": "code",
   "execution_count": 3,
   "id": "99a989d2",
   "metadata": {},
   "outputs": [
    {
     "data": {
      "text/html": [
       "<div>\n",
       "<style scoped>\n",
       "    .dataframe tbody tr th:only-of-type {\n",
       "        vertical-align: middle;\n",
       "    }\n",
       "\n",
       "    .dataframe tbody tr th {\n",
       "        vertical-align: top;\n",
       "    }\n",
       "\n",
       "    .dataframe thead th {\n",
       "        text-align: right;\n",
       "    }\n",
       "</style>\n",
       "<table border=\"1\" class=\"dataframe\">\n",
       "  <thead>\n",
       "    <tr style=\"text-align: right;\">\n",
       "      <th></th>\n",
       "      <th>Country</th>\n",
       "      <th>Region</th>\n",
       "      <th>Year</th>\n",
       "      <th>Infant_deaths</th>\n",
       "      <th>Under_five_deaths</th>\n",
       "      <th>Adult_mortality</th>\n",
       "      <th>Alcohol_consumption</th>\n",
       "      <th>Hepatitis_B</th>\n",
       "      <th>Measles</th>\n",
       "      <th>BMI</th>\n",
       "      <th>...</th>\n",
       "      <th>Diphtheria</th>\n",
       "      <th>Incidents_HIV</th>\n",
       "      <th>GDP_per_capita</th>\n",
       "      <th>Population_mln</th>\n",
       "      <th>Thinness_ten_nineteen_years</th>\n",
       "      <th>Thinness_five_nine_years</th>\n",
       "      <th>Schooling</th>\n",
       "      <th>Economy_status_Developed</th>\n",
       "      <th>Economy_status_Developing</th>\n",
       "      <th>Life_expectancy</th>\n",
       "    </tr>\n",
       "  </thead>\n",
       "  <tbody>\n",
       "    <tr>\n",
       "      <th>0</th>\n",
       "      <td>Turkiye</td>\n",
       "      <td>Middle East</td>\n",
       "      <td>2015</td>\n",
       "      <td>11.1</td>\n",
       "      <td>13.0</td>\n",
       "      <td>105.8240</td>\n",
       "      <td>1.32</td>\n",
       "      <td>97</td>\n",
       "      <td>65</td>\n",
       "      <td>27.8</td>\n",
       "      <td>...</td>\n",
       "      <td>97</td>\n",
       "      <td>0.08</td>\n",
       "      <td>11006</td>\n",
       "      <td>78.53</td>\n",
       "      <td>4.9</td>\n",
       "      <td>4.8</td>\n",
       "      <td>7.8</td>\n",
       "      <td>0</td>\n",
       "      <td>1</td>\n",
       "      <td>76.5</td>\n",
       "    </tr>\n",
       "    <tr>\n",
       "      <th>1</th>\n",
       "      <td>Spain</td>\n",
       "      <td>European Union</td>\n",
       "      <td>2015</td>\n",
       "      <td>2.7</td>\n",
       "      <td>3.3</td>\n",
       "      <td>57.9025</td>\n",
       "      <td>10.35</td>\n",
       "      <td>97</td>\n",
       "      <td>94</td>\n",
       "      <td>26.0</td>\n",
       "      <td>...</td>\n",
       "      <td>97</td>\n",
       "      <td>0.09</td>\n",
       "      <td>25742</td>\n",
       "      <td>46.44</td>\n",
       "      <td>0.6</td>\n",
       "      <td>0.5</td>\n",
       "      <td>9.7</td>\n",
       "      <td>1</td>\n",
       "      <td>0</td>\n",
       "      <td>82.8</td>\n",
       "    </tr>\n",
       "    <tr>\n",
       "      <th>2</th>\n",
       "      <td>India</td>\n",
       "      <td>Asia</td>\n",
       "      <td>2007</td>\n",
       "      <td>51.5</td>\n",
       "      <td>67.9</td>\n",
       "      <td>201.0765</td>\n",
       "      <td>1.57</td>\n",
       "      <td>60</td>\n",
       "      <td>35</td>\n",
       "      <td>21.2</td>\n",
       "      <td>...</td>\n",
       "      <td>64</td>\n",
       "      <td>0.13</td>\n",
       "      <td>1076</td>\n",
       "      <td>1183.21</td>\n",
       "      <td>27.1</td>\n",
       "      <td>28.0</td>\n",
       "      <td>5.0</td>\n",
       "      <td>0</td>\n",
       "      <td>1</td>\n",
       "      <td>65.4</td>\n",
       "    </tr>\n",
       "    <tr>\n",
       "      <th>3</th>\n",
       "      <td>Guyana</td>\n",
       "      <td>South America</td>\n",
       "      <td>2006</td>\n",
       "      <td>32.8</td>\n",
       "      <td>40.5</td>\n",
       "      <td>222.1965</td>\n",
       "      <td>5.68</td>\n",
       "      <td>93</td>\n",
       "      <td>74</td>\n",
       "      <td>25.3</td>\n",
       "      <td>...</td>\n",
       "      <td>93</td>\n",
       "      <td>0.79</td>\n",
       "      <td>4146</td>\n",
       "      <td>0.75</td>\n",
       "      <td>5.7</td>\n",
       "      <td>5.5</td>\n",
       "      <td>7.9</td>\n",
       "      <td>0</td>\n",
       "      <td>1</td>\n",
       "      <td>67.0</td>\n",
       "    </tr>\n",
       "    <tr>\n",
       "      <th>4</th>\n",
       "      <td>Israel</td>\n",
       "      <td>Middle East</td>\n",
       "      <td>2012</td>\n",
       "      <td>3.4</td>\n",
       "      <td>4.3</td>\n",
       "      <td>57.9510</td>\n",
       "      <td>2.89</td>\n",
       "      <td>97</td>\n",
       "      <td>89</td>\n",
       "      <td>27.0</td>\n",
       "      <td>...</td>\n",
       "      <td>94</td>\n",
       "      <td>0.08</td>\n",
       "      <td>33995</td>\n",
       "      <td>7.91</td>\n",
       "      <td>1.2</td>\n",
       "      <td>1.1</td>\n",
       "      <td>12.8</td>\n",
       "      <td>1</td>\n",
       "      <td>0</td>\n",
       "      <td>81.7</td>\n",
       "    </tr>\n",
       "  </tbody>\n",
       "</table>\n",
       "<p>5 rows × 21 columns</p>\n",
       "</div>"
      ],
      "text/plain": [
       "   Country          Region  Year  Infant_deaths  Under_five_deaths  \\\n",
       "0  Turkiye     Middle East  2015           11.1               13.0   \n",
       "1    Spain  European Union  2015            2.7                3.3   \n",
       "2    India            Asia  2007           51.5               67.9   \n",
       "3   Guyana   South America  2006           32.8               40.5   \n",
       "4   Israel     Middle East  2012            3.4                4.3   \n",
       "\n",
       "   Adult_mortality  Alcohol_consumption  Hepatitis_B  Measles   BMI  ...  \\\n",
       "0         105.8240                 1.32           97       65  27.8  ...   \n",
       "1          57.9025                10.35           97       94  26.0  ...   \n",
       "2         201.0765                 1.57           60       35  21.2  ...   \n",
       "3         222.1965                 5.68           93       74  25.3  ...   \n",
       "4          57.9510                 2.89           97       89  27.0  ...   \n",
       "\n",
       "   Diphtheria  Incidents_HIV  GDP_per_capita  Population_mln  \\\n",
       "0          97           0.08           11006           78.53   \n",
       "1          97           0.09           25742           46.44   \n",
       "2          64           0.13            1076         1183.21   \n",
       "3          93           0.79            4146            0.75   \n",
       "4          94           0.08           33995            7.91   \n",
       "\n",
       "   Thinness_ten_nineteen_years  Thinness_five_nine_years  Schooling  \\\n",
       "0                          4.9                       4.8        7.8   \n",
       "1                          0.6                       0.5        9.7   \n",
       "2                         27.1                      28.0        5.0   \n",
       "3                          5.7                       5.5        7.9   \n",
       "4                          1.2                       1.1       12.8   \n",
       "\n",
       "   Economy_status_Developed  Economy_status_Developing  Life_expectancy  \n",
       "0                         0                          1             76.5  \n",
       "1                         1                          0             82.8  \n",
       "2                         0                          1             65.4  \n",
       "3                         0                          1             67.0  \n",
       "4                         1                          0             81.7  \n",
       "\n",
       "[5 rows x 21 columns]"
      ]
     },
     "execution_count": 3,
     "metadata": {},
     "output_type": "execute_result"
    }
   ],
   "source": [
    "df.head()"
   ]
  },
  {
   "cell_type": "markdown",
   "id": "9b8a8501",
   "metadata": {},
   "source": [
    "**Data Description**\n",
    "\n",
    "| Column | Definition |\n",
    "| :- | :- |\n",
    "| Country | List of the 179 countries |\n",
    "| Region | 179 countries are distributed in 9 regions. E.g. Africa, Asia, Oceania, European Union, Rest of Europe and etc. |\n",
    "| Year | Years observed from 2000 to 2015 |\n",
    "| Infant_deaths | Represents infant deaths per 1000 population |\n",
    "| Under_five_deaths | Represents deaths of children under five years old per 1000 population |\n",
    "| Adult_mortality | Represents deaths of adults per 1000 population |\n",
    "| Alcohol_consumption | Represents alcohol consumption that is recorded in liters of pure alcohol per capita with 15+ years old | Hepatitis_B | Represents % of coverage of Hepatitis B (HepB3) immunization among 1-year-olds. |\n",
    "| Measles | Represents % of coverage of Measles containing vaccine first dose (MCV1) immunization among 1-year-olds |\n",
    "| BMI | BMI is a measure of nutritional status in adults. It is defined as a person's weight in kilograms divided by the square of that person's height in meters (kg/m2)\n",
    "| Polio | Represents % of coverage of Polio (Pol3) immunization among 1-year-olds. |\n",
    "| Diphtheria | Represents % of coverage of Diphtheria tetanus toxoid and pertussis (DTP3) immunization among 1-year-olds. |\n",
    "| Incidents_HIV | Incidents of HIV per 1000 population aged 15-49 |\n",
    "| GDP_per_capita | GDP per capita in current USD |\n",
    "| Population_mln | Total population in millions |\n",
    "| Thinness_ten_nineteen_years | Prevalence of thinness among adolescents aged 10-19 years. BMI < -2 standard deviations below the median. |\n",
    "| Thinness_five_nine_years | Prevalence of thinness among children aged 5-9 years. BMI < -2 standard deviations below the median. |\n",
    "| Schooling | Average years that people aged 25+ spent in formal education |\n",
    "| Economy_status_Developed | Developed country |\n",
    "| Economy_status_Developing | Developing county |\n",
    "| Life_expectancy | Average life expectancy of both genders in different years from 2010 to 2015 |"
   ]
  },
  {
   "cell_type": "markdown",
   "id": "c3ee0aef",
   "metadata": {},
   "source": [
    "| Data | Columns |\n",
    "| :- | :- |\n",
    "| **Qualitative Variables** | Country |\n",
    "| | Region |\n",
    "| | Year |\n",
    "| | Economy_status_Developed |\n",
    "| | Economy_status_Developing |\n",
    "| **Quantitative Variables** | Infant_deaths |\n",
    "| | Under_five_deaths |\n",
    "| | Adult_mortality |\n",
    "| | Alcohol_consumption |\n",
    "| | Measles |\n",
    "| | BMI |\n",
    "| | Polio |\n",
    "| | Diphtheria |\n",
    "| | Incidents_HIV |\n",
    "| | GDP_per_capita |\n",
    "| | Population_mln |\n",
    "| | Thinness_ten_nineteen_years |\n",
    "| | Thinness_five_nine_years |\n",
    "| | Schooling |\n",
    "| | Life_expectancy |"
   ]
  },
  {
   "cell_type": "code",
   "execution_count": 4,
   "id": "0e5644c7",
   "metadata": {},
   "outputs": [],
   "source": [
    "df[\"Economy_status\"] = df[\"Economy_status_Developed\"].apply(lambda x: \"Developed\" if x == 1 else \"Developing\")"
   ]
  },
  {
   "cell_type": "markdown",
   "id": "c7bf7f0c",
   "metadata": {},
   "source": [
    "**Berapa rata-rata dan sebaran harapan hidup pada data tiap tahunnya?**"
   ]
  },
  {
   "cell_type": "code",
   "execution_count": 5,
   "id": "9905a337",
   "metadata": {},
   "outputs": [],
   "source": [
    "fig_1 = df[[\"Year\",\"Economy_status\",\"Life_expectancy\"]].groupby([\"Economy_status\", \"Year\"]).agg([np.mean, np.std]).droplevel(axis = 1, level = 0).reset_index()"
   ]
  },
  {
   "cell_type": "code",
   "execution_count": 6,
   "id": "14f245e7",
   "metadata": {},
   "outputs": [],
   "source": [
    "fig_1 = df[[\"Year\", \"Economy_status\",\"Life_expectancy\"]].groupby([\"Economy_status\",\"Year\"]).agg([np.mean, np.std])"
   ]
  },
  {
   "cell_type": "code",
   "execution_count": 7,
   "id": "d7abf8de",
   "metadata": {},
   "outputs": [
    {
     "data": {
      "text/html": [
       "<div>\n",
       "<style scoped>\n",
       "    .dataframe tbody tr th:only-of-type {\n",
       "        vertical-align: middle;\n",
       "    }\n",
       "\n",
       "    .dataframe tbody tr th {\n",
       "        vertical-align: top;\n",
       "    }\n",
       "\n",
       "    .dataframe thead tr th {\n",
       "        text-align: left;\n",
       "    }\n",
       "\n",
       "    .dataframe thead tr:last-of-type th {\n",
       "        text-align: right;\n",
       "    }\n",
       "</style>\n",
       "<table border=\"1\" class=\"dataframe\">\n",
       "  <thead>\n",
       "    <tr>\n",
       "      <th></th>\n",
       "      <th colspan=\"4\" halign=\"left\">Life_expectancy</th>\n",
       "    </tr>\n",
       "    <tr>\n",
       "      <th>Economy_status</th>\n",
       "      <th colspan=\"2\" halign=\"left\">Developed</th>\n",
       "      <th colspan=\"2\" halign=\"left\">Developing</th>\n",
       "    </tr>\n",
       "    <tr>\n",
       "      <th></th>\n",
       "      <th>mean</th>\n",
       "      <th>std</th>\n",
       "      <th>mean</th>\n",
       "      <th>std</th>\n",
       "    </tr>\n",
       "    <tr>\n",
       "      <th>Year</th>\n",
       "      <th></th>\n",
       "      <th></th>\n",
       "      <th></th>\n",
       "      <th></th>\n",
       "    </tr>\n",
       "  </thead>\n",
       "  <tbody>\n",
       "    <tr>\n",
       "      <th>2000</th>\n",
       "      <td>76.602703</td>\n",
       "      <td>3.053549</td>\n",
       "      <td>63.691549</td>\n",
       "      <td>9.681660</td>\n",
       "    </tr>\n",
       "    <tr>\n",
       "      <th>2001</th>\n",
       "      <td>76.956757</td>\n",
       "      <td>3.063906</td>\n",
       "      <td>63.964789</td>\n",
       "      <td>9.691279</td>\n",
       "    </tr>\n",
       "    <tr>\n",
       "      <th>2002</th>\n",
       "      <td>77.097297</td>\n",
       "      <td>3.040330</td>\n",
       "      <td>64.226056</td>\n",
       "      <td>9.651962</td>\n",
       "    </tr>\n",
       "    <tr>\n",
       "      <th>2003</th>\n",
       "      <td>77.259459</td>\n",
       "      <td>3.018688</td>\n",
       "      <td>64.541549</td>\n",
       "      <td>9.588906</td>\n",
       "    </tr>\n",
       "    <tr>\n",
       "      <th>2004</th>\n",
       "      <td>77.718919</td>\n",
       "      <td>3.031395</td>\n",
       "      <td>64.900000</td>\n",
       "      <td>9.500272</td>\n",
       "    </tr>\n",
       "    <tr>\n",
       "      <th>2005</th>\n",
       "      <td>77.851351</td>\n",
       "      <td>3.120419</td>\n",
       "      <td>65.252113</td>\n",
       "      <td>9.356787</td>\n",
       "    </tr>\n",
       "    <tr>\n",
       "      <th>2006</th>\n",
       "      <td>78.105405</td>\n",
       "      <td>3.197824</td>\n",
       "      <td>65.646479</td>\n",
       "      <td>9.163454</td>\n",
       "    </tr>\n",
       "    <tr>\n",
       "      <th>2007</th>\n",
       "      <td>78.281081</td>\n",
       "      <td>3.251738</td>\n",
       "      <td>66.062676</td>\n",
       "      <td>8.948153</td>\n",
       "    </tr>\n",
       "    <tr>\n",
       "      <th>2008</th>\n",
       "      <td>78.591892</td>\n",
       "      <td>3.089173</td>\n",
       "      <td>66.489437</td>\n",
       "      <td>8.708036</td>\n",
       "    </tr>\n",
       "    <tr>\n",
       "      <th>2009</th>\n",
       "      <td>78.886486</td>\n",
       "      <td>2.942614</td>\n",
       "      <td>66.914085</td>\n",
       "      <td>8.452501</td>\n",
       "    </tr>\n",
       "    <tr>\n",
       "      <th>2010</th>\n",
       "      <td>79.156757</td>\n",
       "      <td>2.900052</td>\n",
       "      <td>67.333099</td>\n",
       "      <td>8.197160</td>\n",
       "    </tr>\n",
       "    <tr>\n",
       "      <th>2011</th>\n",
       "      <td>79.570270</td>\n",
       "      <td>2.792238</td>\n",
       "      <td>67.729577</td>\n",
       "      <td>7.947253</td>\n",
       "    </tr>\n",
       "    <tr>\n",
       "      <th>2012</th>\n",
       "      <td>79.664865</td>\n",
       "      <td>2.775209</td>\n",
       "      <td>68.139437</td>\n",
       "      <td>7.714304</td>\n",
       "    </tr>\n",
       "    <tr>\n",
       "      <th>2013</th>\n",
       "      <td>79.940541</td>\n",
       "      <td>2.722178</td>\n",
       "      <td>68.515493</td>\n",
       "      <td>7.490782</td>\n",
       "    </tr>\n",
       "    <tr>\n",
       "      <th>2014</th>\n",
       "      <td>80.248649</td>\n",
       "      <td>2.794799</td>\n",
       "      <td>68.863380</td>\n",
       "      <td>7.275807</td>\n",
       "    </tr>\n",
       "    <tr>\n",
       "      <th>2015</th>\n",
       "      <td>80.159459</td>\n",
       "      <td>2.730635</td>\n",
       "      <td>69.197887</td>\n",
       "      <td>7.108116</td>\n",
       "    </tr>\n",
       "  </tbody>\n",
       "</table>\n",
       "</div>"
      ],
      "text/plain": [
       "               Life_expectancy                               \n",
       "Economy_status       Developed           Developing          \n",
       "                          mean       std       mean       std\n",
       "Year                                                         \n",
       "2000                 76.602703  3.053549  63.691549  9.681660\n",
       "2001                 76.956757  3.063906  63.964789  9.691279\n",
       "2002                 77.097297  3.040330  64.226056  9.651962\n",
       "2003                 77.259459  3.018688  64.541549  9.588906\n",
       "2004                 77.718919  3.031395  64.900000  9.500272\n",
       "2005                 77.851351  3.120419  65.252113  9.356787\n",
       "2006                 78.105405  3.197824  65.646479  9.163454\n",
       "2007                 78.281081  3.251738  66.062676  8.948153\n",
       "2008                 78.591892  3.089173  66.489437  8.708036\n",
       "2009                 78.886486  2.942614  66.914085  8.452501\n",
       "2010                 79.156757  2.900052  67.333099  8.197160\n",
       "2011                 79.570270  2.792238  67.729577  7.947253\n",
       "2012                 79.664865  2.775209  68.139437  7.714304\n",
       "2013                 79.940541  2.722178  68.515493  7.490782\n",
       "2014                 80.248649  2.794799  68.863380  7.275807\n",
       "2015                 80.159459  2.730635  69.197887  7.108116"
      ]
     },
     "execution_count": 7,
     "metadata": {},
     "output_type": "execute_result"
    }
   ],
   "source": [
    "fig_1.unstack('Economy_status').swaplevel(2,1,axis = 1)[[('Life_expectancy','Developed','mean'),\n",
    "                                                         ('Life_expectancy','Developed','std'),\n",
    "                                                         ('Life_expectancy','Developing','mean'),\n",
    "                                                         ('Life_expectancy','Developing','std')]]"
   ]
  },
  {
   "cell_type": "code",
   "execution_count": 8,
   "id": "d0c6d4e2",
   "metadata": {},
   "outputs": [
    {
     "data": {
      "image/png": "[encoded data removed]",
      "text/plain": [
       "<Figure size 720x360 with 1 Axes>"
      ]
     },
     "metadata": {
      "needs_background": "light"
     },
     "output_type": "display_data"
    }
   ],
   "source": [
    "plt.subplots(figsize = (10,5))\n",
    "\n",
    "sns.set()\n",
    "x = np.sort(df[\"Year\"].unique())\n",
    "developed_mean = fig_1.loc[(\"Developed\"),(\"Life_expectancy\",\"mean\")].values\n",
    "developed_std = fig_1.loc[(\"Developed\"),(\"Life_expectancy\",\"std\")].values\n",
    "\n",
    "developing_mean = fig_1.loc[(\"Developing\"),(\"Life_expectancy\",\"mean\")].values\n",
    "developing_std = fig_1.loc[(\"Developing\"),(\"Life_expectancy\",\"std\")].values\n",
    "\n",
    "plt.plot(x, developed_mean, 'b-', label='developed country')\n",
    "plt.fill_between(x, developed_mean - developed_std, developed_mean + developed_std, color='b', alpha=0.2)\n",
    "\n",
    "plt.plot(x, developing_mean, 'r-', label='developing country')\n",
    "plt.fill_between(x, developing_mean - developing_std, developing_mean + developing_std, color='r', alpha=0.2)\n",
    "\n",
    "plt.legend()\n",
    "plt.show()"
   ]
  },
  {
   "cell_type": "markdown",
   "id": "390c23da",
   "metadata": {},
   "source": [
    "**Berapa besar proporsi negara berkembang dan negara maju?**"
   ]
  },
  {
   "cell_type": "code",
   "execution_count": 9,
   "id": "a261c6e8",
   "metadata": {},
   "outputs": [],
   "source": [
    "fig_2 = df[[\"Country\",\"Economy_status\"]].drop_duplicates()[\"Economy_status\"].value_counts()"
   ]
  },
  {
   "cell_type": "code",
   "execution_count": 10,
   "id": "0d6f2cca",
   "metadata": {},
   "outputs": [
    {
     "data": {
      "text/html": [
       "<div>\n",
       "<style scoped>\n",
       "    .dataframe tbody tr th:only-of-type {\n",
       "        vertical-align: middle;\n",
       "    }\n",
       "\n",
       "    .dataframe tbody tr th {\n",
       "        vertical-align: top;\n",
       "    }\n",
       "\n",
       "    .dataframe thead th {\n",
       "        text-align: right;\n",
       "    }\n",
       "</style>\n",
       "<table border=\"1\" class=\"dataframe\">\n",
       "  <thead>\n",
       "    <tr style=\"text-align: right;\">\n",
       "      <th></th>\n",
       "      <th>Count</th>\n",
       "    </tr>\n",
       "  </thead>\n",
       "  <tbody>\n",
       "    <tr>\n",
       "      <th>Developing</th>\n",
       "      <td>142</td>\n",
       "    </tr>\n",
       "    <tr>\n",
       "      <th>Developed</th>\n",
       "      <td>37</td>\n",
       "    </tr>\n",
       "  </tbody>\n",
       "</table>\n",
       "</div>"
      ],
      "text/plain": [
       "            Count\n",
       "Developing    142\n",
       "Developed      37"
      ]
     },
     "execution_count": 10,
     "metadata": {},
     "output_type": "execute_result"
    }
   ],
   "source": [
    "pd.DataFrame(fig_2).rename(columns = {\"Economy_status\":\"Count\"})"
   ]
  },
  {
   "cell_type": "code",
   "execution_count": 11,
   "id": "cbbedf55",
   "metadata": {
    "scrolled": true
   },
   "outputs": [
    {
     "data": {
      "image/png": "[encoded data removed]",
      "text/plain": [
       "<Figure size 432x288 with 1 Axes>"
      ]
     },
     "metadata": {},
     "output_type": "display_data"
    }
   ],
   "source": [
    "plt.pie(np.array(fig_2), labels = fig_2.keys(), autopct='%1.1f%%',\n",
    "       colors=sns.color_palette('pastel')[0:2])\n",
    "\n",
    "plt.show()"
   ]
  },
  {
   "cell_type": "markdown",
   "id": "0391632e",
   "metadata": {},
   "source": [
    "**Negara mana yang memiliki rata-rata angka harapan hidup tertinggi dan terendah?**"
   ]
  },
  {
   "cell_type": "code",
   "execution_count": 12,
   "id": "0febedf6",
   "metadata": {},
   "outputs": [],
   "source": [
    "fig_3 = df[[\"Country\",\"Life_expectancy\"]]"
   ]
  },
  {
   "cell_type": "code",
   "execution_count": 13,
   "id": "b21c4f41",
   "metadata": {},
   "outputs": [],
   "source": [
    "fig_3_mean_std = fig_3.groupby(\"Country\").agg([np.mean, np.std]).sort_values((\"Life_expectancy\",\"mean\")).tail(5)"
   ]
  },
  {
   "cell_type": "code",
   "execution_count": 14,
   "id": "1684b7f6",
   "metadata": {},
   "outputs": [
    {
     "data": {
      "text/html": [
       "<div>\n",
       "<style scoped>\n",
       "    .dataframe tbody tr th:only-of-type {\n",
       "        vertical-align: middle;\n",
       "    }\n",
       "\n",
       "    .dataframe tbody tr th {\n",
       "        vertical-align: top;\n",
       "    }\n",
       "\n",
       "    .dataframe thead tr th {\n",
       "        text-align: left;\n",
       "    }\n",
       "\n",
       "    .dataframe thead tr:last-of-type th {\n",
       "        text-align: right;\n",
       "    }\n",
       "</style>\n",
       "<table border=\"1\" class=\"dataframe\">\n",
       "  <thead>\n",
       "    <tr>\n",
       "      <th></th>\n",
       "      <th colspan=\"2\" halign=\"left\">Life_expectancy</th>\n",
       "    </tr>\n",
       "    <tr>\n",
       "      <th></th>\n",
       "      <th>mean</th>\n",
       "      <th>std</th>\n",
       "    </tr>\n",
       "    <tr>\n",
       "      <th>Country</th>\n",
       "      <th></th>\n",
       "      <th></th>\n",
       "    </tr>\n",
       "  </thead>\n",
       "  <tbody>\n",
       "    <tr>\n",
       "      <th>Australia</th>\n",
       "      <td>81.11250</td>\n",
       "      <td>0.993227</td>\n",
       "    </tr>\n",
       "    <tr>\n",
       "      <th>Italy</th>\n",
       "      <td>81.38750</td>\n",
       "      <td>1.028186</td>\n",
       "    </tr>\n",
       "    <tr>\n",
       "      <th>Iceland</th>\n",
       "      <td>81.57500</td>\n",
       "      <td>0.884308</td>\n",
       "    </tr>\n",
       "    <tr>\n",
       "      <th>Switzerland</th>\n",
       "      <td>81.67500</td>\n",
       "      <td>1.075484</td>\n",
       "    </tr>\n",
       "    <tr>\n",
       "      <th>Japan</th>\n",
       "      <td>82.45625</td>\n",
       "      <td>0.785679</td>\n",
       "    </tr>\n",
       "  </tbody>\n",
       "</table>\n",
       "</div>"
      ],
      "text/plain": [
       "            Life_expectancy          \n",
       "                       mean       std\n",
       "Country                              \n",
       "Australia          81.11250  0.993227\n",
       "Italy              81.38750  1.028186\n",
       "Iceland            81.57500  0.884308\n",
       "Switzerland        81.67500  1.075484\n",
       "Japan              82.45625  0.785679"
      ]
     },
     "execution_count": 14,
     "metadata": {},
     "output_type": "execute_result"
    }
   ],
   "source": [
    "fig_3_mean_std"
   ]
  },
  {
   "cell_type": "code",
   "execution_count": 15,
   "id": "f48a603d",
   "metadata": {},
   "outputs": [
    {
     "data": {
      "text/plain": [
       "[81.1125, 81.3875, 81.575, 81.675, 82.45624999999998]"
      ]
     },
     "execution_count": 15,
     "metadata": {},
     "output_type": "execute_result"
    }
   ],
   "source": [
    "list(fig_3_mean_std[\"Life_expectancy\"][\"mean\"])"
   ]
  },
  {
   "cell_type": "code",
   "execution_count": 16,
   "id": "7f9b2175",
   "metadata": {},
   "outputs": [
    {
     "data": {
      "image/png": "[encoded data removed]",
      "text/plain": [
       "<Figure size 720x360 with 1 Axes>"
      ]
     },
     "metadata": {},
     "output_type": "display_data"
    }
   ],
   "source": [
    "sns.catplot(data=fig_3,\n",
    "            x=\"Country\",\n",
    "            y=\"Life_expectancy\",\n",
    "            kind=\"bar\",\n",
    "            capsize=.05,\n",
    "            height=5, aspect=2,\n",
    "            order=fig_3.groupby(\"Country\").mean().sort_values(\"Life_expectancy\").tail(5).index)\n",
    "    \n",
    "plt.show()"
   ]
  },
  {
   "cell_type": "code",
   "execution_count": 17,
   "id": "4124c47f",
   "metadata": {},
   "outputs": [
    {
     "data": {
      "text/html": [
       "<div>\n",
       "<style scoped>\n",
       "    .dataframe tbody tr th:only-of-type {\n",
       "        vertical-align: middle;\n",
       "    }\n",
       "\n",
       "    .dataframe tbody tr th {\n",
       "        vertical-align: top;\n",
       "    }\n",
       "\n",
       "    .dataframe thead tr th {\n",
       "        text-align: left;\n",
       "    }\n",
       "\n",
       "    .dataframe thead tr:last-of-type th {\n",
       "        text-align: right;\n",
       "    }\n",
       "</style>\n",
       "<table border=\"1\" class=\"dataframe\">\n",
       "  <thead>\n",
       "    <tr>\n",
       "      <th></th>\n",
       "      <th colspan=\"2\" halign=\"left\">Life_expectancy</th>\n",
       "    </tr>\n",
       "    <tr>\n",
       "      <th></th>\n",
       "      <th>mean</th>\n",
       "      <th>std</th>\n",
       "    </tr>\n",
       "    <tr>\n",
       "      <th>Country</th>\n",
       "      <th></th>\n",
       "      <th></th>\n",
       "    </tr>\n",
       "  </thead>\n",
       "  <tbody>\n",
       "    <tr>\n",
       "      <th>Lesotho</th>\n",
       "      <td>45.60625</td>\n",
       "      <td>2.678922</td>\n",
       "    </tr>\n",
       "    <tr>\n",
       "      <th>Central African Republic</th>\n",
       "      <td>46.48125</td>\n",
       "      <td>2.315230</td>\n",
       "    </tr>\n",
       "    <tr>\n",
       "      <th>Eswatini</th>\n",
       "      <td>46.69375</td>\n",
       "      <td>4.062424</td>\n",
       "    </tr>\n",
       "    <tr>\n",
       "      <th>Sierra Leone</th>\n",
       "      <td>46.70000</td>\n",
       "      <td>4.426888</td>\n",
       "    </tr>\n",
       "    <tr>\n",
       "      <th>Zimbabwe</th>\n",
       "      <td>48.66250</td>\n",
       "      <td>5.994984</td>\n",
       "    </tr>\n",
       "  </tbody>\n",
       "</table>\n",
       "</div>"
      ],
      "text/plain": [
       "                         Life_expectancy          \n",
       "                                    mean       std\n",
       "Country                                           \n",
       "Lesotho                         45.60625  2.678922\n",
       "Central African Republic        46.48125  2.315230\n",
       "Eswatini                        46.69375  4.062424\n",
       "Sierra Leone                    46.70000  4.426888\n",
       "Zimbabwe                        48.66250  5.994984"
      ]
     },
     "execution_count": 17,
     "metadata": {},
     "output_type": "execute_result"
    }
   ],
   "source": [
    "fig_3.groupby(\"Country\").agg([np.mean, np.std]).sort_values((\"Life_expectancy\",\"mean\")).head(5)"
   ]
  },
  {
   "cell_type": "code",
   "execution_count": 18,
   "id": "1b3ebaf3",
   "metadata": {},
   "outputs": [
    {
     "data": {
      "image/png": "[encoded data removed]",
      "text/plain": [
       "<Figure size 720x360 with 1 Axes>"
      ]
     },
     "metadata": {},
     "output_type": "display_data"
    }
   ],
   "source": [
    "sns.catplot(data=fig_3,\n",
    "            x=\"Country\",\n",
    "            y=\"Life_expectancy\",\n",
    "            kind=\"bar\",\n",
    "            capsize=.05,\n",
    "            height=5, aspect=2,\n",
    "            order=fig_3.groupby(\"Country\").mean().sort_values(\"Life_expectancy\").head(5).index)\n",
    "\n",
    "plt.show()"
   ]
  },
  {
   "cell_type": "markdown",
   "id": "333ae5a0",
   "metadata": {},
   "source": [
    "**Berapa peluang angka harapan hidup suatu negara lebih dari 75 tahun apabila diketahui merupakan negara maju?**"
   ]
  },
  {
   "cell_type": "code",
   "execution_count": 19,
   "id": "416bec88",
   "metadata": {},
   "outputs": [
    {
     "name": "stdout",
     "output_type": "stream",
     "text": [
      "The number of country that have life expectancy more than 75 years old and is a developed country:\n",
      "486\n"
     ]
    }
   ],
   "source": [
    "n_more75_developed = ((df[\"Life_expectancy\"] > 75) & (df[\"Economy_status\"] == \"Developed\")).sum()\n",
    "\n",
    "print(\"The number of country that have life expectancy more than 75 years old and is a developed country:\")\n",
    "print(n_more75_developed)"
   ]
  },
  {
   "cell_type": "code",
   "execution_count": 20,
   "id": "81ae3c35",
   "metadata": {},
   "outputs": [
    {
     "name": "stdout",
     "output_type": "stream",
     "text": [
      "The number of country that is a developed country:\n",
      "592\n"
     ]
    }
   ],
   "source": [
    "n_developed = (df[\"Economy_status\"] == \"Developed\").sum()\n",
    "\n",
    "print(\"The number of country that is a developed country:\")\n",
    "print(n_developed)"
   ]
  },
  {
   "cell_type": "code",
   "execution_count": 21,
   "id": "4876fba2",
   "metadata": {},
   "outputs": [
    {
     "name": "stdout",
     "output_type": "stream",
     "text": [
      "The probability that a country's life expectancy is more than 75 years old if given it is a developed country:\n",
      "82.09%\n"
     ]
    }
   ],
   "source": [
    "p_more75_given_developed = n_more75_developed / n_developed\n",
    "\n",
    "print(\"The probability that a country's life expectancy is more than 75 years old if given it is a developed country:\")\n",
    "print(f\"{p_more75_given_developed * 100:.2f}%\")"
   ]
  },
  {
   "cell_type": "markdown",
   "id": "ce7a44e6",
   "metadata": {},
   "source": [
    "**Berapa peluang angka harapan hidup suatu negara lebih dari 75 tahun apabila diketahui merupakan negara berkembang?**"
   ]
  },
  {
   "cell_type": "code",
   "execution_count": 22,
   "id": "02dd409c",
   "metadata": {},
   "outputs": [
    {
     "name": "stdout",
     "output_type": "stream",
     "text": [
      "The number of country that have life expectancy more than 75 years old and is a developing country:\n",
      "306\n"
     ]
    }
   ],
   "source": [
    "n_more75_developing = ((df[\"Life_expectancy\"] > 75) & (df[\"Economy_status\"] == \"Developing\")).sum()\n",
    "\n",
    "print(\"The number of country that have life expectancy more than 75 years old and is a developing country:\")\n",
    "print(n_more75_developing)"
   ]
  },
  {
   "cell_type": "code",
   "execution_count": 23,
   "id": "3bdbcab1",
   "metadata": {},
   "outputs": [
    {
     "name": "stdout",
     "output_type": "stream",
     "text": [
      "The number of country that is a developing country:\n",
      "2272\n"
     ]
    }
   ],
   "source": [
    "n_developing = (df[\"Economy_status\"] == \"Developing\").sum()\n",
    "\n",
    "print(\"The number of country that is a developing country:\")\n",
    "print(n_developing)"
   ]
  },
  {
   "cell_type": "code",
   "execution_count": 24,
   "id": "1811897e",
   "metadata": {},
   "outputs": [
    {
     "name": "stdout",
     "output_type": "stream",
     "text": [
      "The probability that a country's life expectancy is more than 75 years old if given it is a developing country:\n",
      "13.47%\n"
     ]
    }
   ],
   "source": [
    "p_more75_given_developing = n_more75_developing / n_developing\n",
    "\n",
    "print(\"The probability that a country's life expectancy is more than 75 years old if given it is a developing country:\")\n",
    "print(f\"{p_more75_given_developing * 100:.2f}%\")"
   ]
  },
  {
   "cell_type": "markdown",
   "id": "4fe303ee",
   "metadata": {},
   "source": [
    "**Variabel mana yang memiliki korelasi tertinggi terhadap angka harapan hidup?**"
   ]
  },
  {
   "cell_type": "code",
   "execution_count": 29,
   "id": "7973cb9f",
   "metadata": {},
   "outputs": [
    {
     "data": {
      "image/png": "[encoded data removed]",
      "text/plain": [
       "<Figure size 936x864 with 2 Axes>"
      ]
     },
     "metadata": {},
     "output_type": "display_data"
    }
   ],
   "source": [
    "plt.subplots(figsize = (13,12))\n",
    "\n",
    "\n",
    "\n",
    "corr = df[[\"Infant_deaths\",\n",
    "           \"Under_five_deaths\",\n",
    "           \"Adult_mortality\",\n",
    "           \"Alcohol_consumption\",\n",
    "           \"Hepatitis_B\",\n",
    "           \"Measles\",\n",
    "           \"BMI\", \n",
    "           \"Polio\", \n",
    "           \"Diphtheria\", \n",
    "           \"Incidents_HIV\", \n",
    "           \"GDP_per_capita\",\n",
    "           \"Population_mln\", \n",
    "           \"Thinness_ten_nineteen_years\",\n",
    "           \"Thinness_five_nine_years\", \n",
    "           \"Schooling\",\n",
    "           \"Life_expectancy\"]].corr()\n",
    "\n",
    "sns.set_theme(style=\"white\")\n",
    "\n",
    "sns.heatmap(corr,\n",
    "            cmap=sns.diverging_palette(230, 20, n=200, as_cmap=True),\n",
    "            square=True, \n",
    "            mask = np.triu(np.ones_like(corr, dtype=bool)), \n",
    "            cbar_kws={\"shrink\": 1.},\n",
    "            annot = True,\n",
    "            fmt='.2f')\n",
    "    \n",
    "plt.show()"
   ]
  },
  {
   "cell_type": "markdown",
   "id": "324a498e",
   "metadata": {},
   "source": [
    "**Apakah rata-rata angka harapan hidup negara maju lebih dari 80 tahun?**"
   ]
  },
  {
   "cell_type": "code",
   "execution_count": 26,
   "id": "4123889a",
   "metadata": {},
   "outputs": [],
   "source": [
    "avg_country = df.loc[df[\"Economy_status\"] == \"Developed\", [\"Country\", \"Life_expectancy\"]]\\\n",
    "              .groupby(\"Country\")\\\n",
    "              .mean()\\\n",
    "              .reset_index()"
   ]
  },
  {
   "cell_type": "code",
   "execution_count": 27,
   "id": "bd7abab6",
   "metadata": {},
   "outputs": [],
   "source": [
    "ttest, pvalue = ttest_1samp(a = avg_country[\"Life_expectancy\"], popmean = 80, alternative = \"less\")"
   ]
  },
  {
   "cell_type": "code",
   "execution_count": 28,
   "id": "477c2e59",
   "metadata": {},
   "outputs": [
    {
     "name": "stdout",
     "output_type": "stream",
     "text": [
      "t-statistics: -3.0833301654067027\n",
      "p-value: 0.001957980940133423\n"
     ]
    }
   ],
   "source": [
    "print(f\"t-statistics: {ttest}\")\n",
    "print(f\"p-value: {pvalue}\")"
   ]
  }
 ],
 "metadata": {
  "kernelspec": {
   "display_name": "Python 3",
   "language": "python",
   "name": "python3"
  },
  "language_info": {
   "codemirror_mode": {
    "name": "ipython",
    "version": 3
   },
   "file_extension": ".py",
   "mimetype": "text/x-python",
   "name": "python",
   "nbconvert_exporter": "python",
   "pygments_lexer": "ipython3",
   "version": "3.8.8"
  }
 },
 "nbformat": 4,
 "nbformat_minor": 5
}
